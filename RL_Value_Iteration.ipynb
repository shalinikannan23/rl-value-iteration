{
 "cells": [
  {
   "cell_type": "code",
   "execution_count": 1,
   "metadata": {
    "colab": {
     "base_uri": "https://localhost:8080/"
    },
    "id": "F8Thlx1HkEsN",
    "outputId": "f12433ae-9ce5-41b3-c8c6-1fdf20b4b720"
   },
   "outputs": [
    {
     "name": "stdout",
     "output_type": "stream",
     "text": [
      "Collecting gym-walk\n",
      "  Cloning https://github.com/mimoralea/gym-walk to c:\\users\\sec\\appdata\\local\\temp\\pip-install-0rd6b3ws\\gym-walk_78e04f5ef93842fabfaa2b0e9792218a\n",
      "  Resolved https://github.com/mimoralea/gym-walk to commit b915b94cf2ad16f8833a1ad92ea94e88159279f5\n",
      "  Preparing metadata (setup.py): started\n",
      "  Preparing metadata (setup.py): finished with status 'done'\n",
      "Requirement already satisfied: gym in c:\\users\\sec\\anaconda3\\lib\\site-packages (from gym-walk) (0.26.2)\n",
      "Requirement already satisfied: numpy>=1.18.0 in c:\\users\\sec\\anaconda3\\lib\\site-packages (from gym->gym-walk) (1.26.4)\n",
      "Requirement already satisfied: cloudpickle>=1.2.0 in c:\\users\\sec\\anaconda3\\lib\\site-packages (from gym->gym-walk) (3.0.0)\n",
      "Requirement already satisfied: gym_notices>=0.0.4 in c:\\users\\sec\\anaconda3\\lib\\site-packages (from gym->gym-walk) (0.0.8)\n",
      "Note: you may need to restart the kernel to use updated packages.\n"
     ]
    },
    {
     "name": "stderr",
     "output_type": "stream",
     "text": [
      "  Running command git clone --filter=blob:none --quiet https://github.com/mimoralea/gym-walk 'C:\\Users\\SEC\\AppData\\Local\\Temp\\pip-install-0rd6b3ws\\gym-walk_78e04f5ef93842fabfaa2b0e9792218a'\n"
     ]
    }
   ],
   "source": [
    "pip install git+https://github.com/mimoralea/gym-walk#egg=gym-walk"
   ]
  },
  {
   "cell_type": "code",
   "execution_count": 13,
   "metadata": {
    "id": "HLABChUJkHgt"
   },
   "outputs": [],
   "source": [
    "import warnings ; warnings.filterwarnings('ignore')\n",
    "\n",
    "import gym, gym_walk\n",
    "import numpy as np\n",
    "\n",
    "import random\n",
    "import warnings\n",
    "\n",
    "warnings.filterwarnings('ignore', category=DeprecationWarning)\n",
    "np.set_printoptions(suppress=True)\n",
    "random.seed(123); np.random.seed(123)"
   ]
  },
  {
   "cell_type": "code",
   "execution_count": 14,
   "metadata": {
    "id": "_nkVKLIpkK2t"
   },
   "outputs": [],
   "source": [
    "\n",
    "def print_policy(pi, P, action_symbols=('<', 'v', '>', '^'), n_cols=4, title='Policy:'):\n",
    "    print(title)\n",
    "    arrs = {k:v for k,v in enumerate(action_symbols)}\n",
    "    for s in range(len(P)):\n",
    "        a = pi(s)\n",
    "        print(\"| \", end=\"\")\n",
    "        if np.all([done for action in P[s].values() for _, _, _, done in action]):\n",
    "            print(\"\".rjust(9), end=\" \")\n",
    "        else:\n",
    "            print(str(s).zfill(2), arrs[a].rjust(6), end=\" \")\n",
    "        if (s + 1) % n_cols == 0: print(\"|\")"
   ]
  },
  {
   "cell_type": "code",
   "execution_count": 15,
   "metadata": {
    "id": "m4GLLWvFkNAP"
   },
   "outputs": [],
   "source": [
    "def print_state_value_function(V, P, n_cols=4, prec=3, title='State-value function:'):\n",
    "    print(title)\n",
    "    for s in range(len(P)):\n",
    "        v = V[s]\n",
    "        print(\"| \", end=\"\")\n",
    "        if np.all([done for action in P[s].values() for _, _, _, done in action]):\n",
    "            print(\"\".rjust(9), end=\" \")\n",
    "        else:\n",
    "            print(str(s).zfill(2), '{}'.format(np.round(v, prec)).rjust(6), end=\" \")\n",
    "        if (s + 1) % n_cols == 0: print(\"|\")"
   ]
  },
  {
   "cell_type": "code",
   "execution_count": 16,
   "metadata": {
    "id": "aTDyB57nkQP1"
   },
   "outputs": [],
   "source": [
    "def probability_success(env, pi, goal_state, n_episodes=100, max_steps=200):\n",
    "    np.random.seed(123)\n",
    "    random.seed(123)\n",
    "    env.reset(seed=123)\n",
    "    env.action_space.seed(123)\n",
    "\n",
    "    results = []\n",
    "    for _ in range(n_episodes):\n",
    "        state, _ = env.reset()\n",
    "        for _ in range(max_steps):\n",
    "            action = pi(state)  # <- CORRECT: pi is a function\n",
    "            state, _, terminated, truncated, _ = env.step(action)\n",
    "            if state == goal_state:\n",
    "                results.append(1)\n",
    "                break\n",
    "            if terminated or truncated:\n",
    "                results.append(0)\n",
    "                break\n",
    "    return np.mean(results)"
   ]
  },
  {
   "cell_type": "code",
   "execution_count": 17,
   "metadata": {
    "id": "o4zR4NCakSnV"
   },
   "outputs": [],
   "source": [
    "def mean_return(env, pi, n_episodes=100, max_steps=200):\n",
    "    np.random.seed(123)\n",
    "    random.seed(123)\n",
    "    env.reset(seed=123)\n",
    "    env.action_space.seed(123)\n",
    "\n",
    "    returns = []\n",
    "    for _ in range(n_episodes):\n",
    "        state, _ = env.reset()\n",
    "        total_reward = 0\n",
    "        for _ in range(max_steps):\n",
    "            action = pi(state)\n",
    "            state, reward, terminated, truncated, _ = env.step(action)\n",
    "            total_reward += reward\n",
    "            if terminated or truncated:\n",
    "                break\n",
    "        returns.append(total_reward)\n",
    "    return np.mean(returns)"
   ]
  },
  {
   "cell_type": "code",
   "execution_count": 18,
   "metadata": {
    "id": "jJpypdrLkVDV"
   },
   "outputs": [],
   "source": [
    "desc=['FSFH','FFFH','FHGF','HFFH']\n",
    "env = gym.make('FrozenLake-v1',desc=desc)\n",
    "init_state = env.reset()\n",
    "goal_state = 10\n",
    "P = env.env.P"
   ]
  },
  {
   "cell_type": "code",
   "execution_count": 19,
   "metadata": {
    "colab": {
     "base_uri": "https://localhost:8080/"
    },
    "id": "WLRtrBCnkZJH",
    "outputId": "92f2b6e5-5aa5-47fa-a6c7-a63c16304ee4"
   },
   "outputs": [
    {
     "data": {
      "text/plain": [
       "{0: {0: [(0.3333333333333333, 0, 0.0, False),\n",
       "   (0.3333333333333333, 0, 0.0, False),\n",
       "   (0.3333333333333333, 4, 0.0, False)],\n",
       "  1: [(0.3333333333333333, 0, 0.0, False),\n",
       "   (0.3333333333333333, 4, 0.0, False),\n",
       "   (0.3333333333333333, 1, 0.0, False)],\n",
       "  2: [(0.3333333333333333, 4, 0.0, False),\n",
       "   (0.3333333333333333, 1, 0.0, False),\n",
       "   (0.3333333333333333, 0, 0.0, False)],\n",
       "  3: [(0.3333333333333333, 1, 0.0, False),\n",
       "   (0.3333333333333333, 0, 0.0, False),\n",
       "   (0.3333333333333333, 0, 0.0, False)]},\n",
       " 1: {0: [(0.3333333333333333, 1, 0.0, False),\n",
       "   (0.3333333333333333, 0, 0.0, False),\n",
       "   (0.3333333333333333, 5, 0.0, False)],\n",
       "  1: [(0.3333333333333333, 0, 0.0, False),\n",
       "   (0.3333333333333333, 5, 0.0, False),\n",
       "   (0.3333333333333333, 2, 0.0, False)],\n",
       "  2: [(0.3333333333333333, 5, 0.0, False),\n",
       "   (0.3333333333333333, 2, 0.0, False),\n",
       "   (0.3333333333333333, 1, 0.0, False)],\n",
       "  3: [(0.3333333333333333, 2, 0.0, False),\n",
       "   (0.3333333333333333, 1, 0.0, False),\n",
       "   (0.3333333333333333, 0, 0.0, False)]},\n",
       " 2: {0: [(0.3333333333333333, 2, 0.0, False),\n",
       "   (0.3333333333333333, 1, 0.0, False),\n",
       "   (0.3333333333333333, 6, 0.0, False)],\n",
       "  1: [(0.3333333333333333, 1, 0.0, False),\n",
       "   (0.3333333333333333, 6, 0.0, False),\n",
       "   (0.3333333333333333, 3, 0.0, True)],\n",
       "  2: [(0.3333333333333333, 6, 0.0, False),\n",
       "   (0.3333333333333333, 3, 0.0, True),\n",
       "   (0.3333333333333333, 2, 0.0, False)],\n",
       "  3: [(0.3333333333333333, 3, 0.0, True),\n",
       "   (0.3333333333333333, 2, 0.0, False),\n",
       "   (0.3333333333333333, 1, 0.0, False)]},\n",
       " 3: {0: [(1.0, 3, 0, True)],\n",
       "  1: [(1.0, 3, 0, True)],\n",
       "  2: [(1.0, 3, 0, True)],\n",
       "  3: [(1.0, 3, 0, True)]},\n",
       " 4: {0: [(0.3333333333333333, 0, 0.0, False),\n",
       "   (0.3333333333333333, 4, 0.0, False),\n",
       "   (0.3333333333333333, 8, 0.0, False)],\n",
       "  1: [(0.3333333333333333, 4, 0.0, False),\n",
       "   (0.3333333333333333, 8, 0.0, False),\n",
       "   (0.3333333333333333, 5, 0.0, False)],\n",
       "  2: [(0.3333333333333333, 8, 0.0, False),\n",
       "   (0.3333333333333333, 5, 0.0, False),\n",
       "   (0.3333333333333333, 0, 0.0, False)],\n",
       "  3: [(0.3333333333333333, 5, 0.0, False),\n",
       "   (0.3333333333333333, 0, 0.0, False),\n",
       "   (0.3333333333333333, 4, 0.0, False)]},\n",
       " 5: {0: [(0.3333333333333333, 1, 0.0, False),\n",
       "   (0.3333333333333333, 4, 0.0, False),\n",
       "   (0.3333333333333333, 9, 0.0, True)],\n",
       "  1: [(0.3333333333333333, 4, 0.0, False),\n",
       "   (0.3333333333333333, 9, 0.0, True),\n",
       "   (0.3333333333333333, 6, 0.0, False)],\n",
       "  2: [(0.3333333333333333, 9, 0.0, True),\n",
       "   (0.3333333333333333, 6, 0.0, False),\n",
       "   (0.3333333333333333, 1, 0.0, False)],\n",
       "  3: [(0.3333333333333333, 6, 0.0, False),\n",
       "   (0.3333333333333333, 1, 0.0, False),\n",
       "   (0.3333333333333333, 4, 0.0, False)]},\n",
       " 6: {0: [(0.3333333333333333, 2, 0.0, False),\n",
       "   (0.3333333333333333, 5, 0.0, False),\n",
       "   (0.3333333333333333, 10, 1.0, True)],\n",
       "  1: [(0.3333333333333333, 5, 0.0, False),\n",
       "   (0.3333333333333333, 10, 1.0, True),\n",
       "   (0.3333333333333333, 7, 0.0, True)],\n",
       "  2: [(0.3333333333333333, 10, 1.0, True),\n",
       "   (0.3333333333333333, 7, 0.0, True),\n",
       "   (0.3333333333333333, 2, 0.0, False)],\n",
       "  3: [(0.3333333333333333, 7, 0.0, True),\n",
       "   (0.3333333333333333, 2, 0.0, False),\n",
       "   (0.3333333333333333, 5, 0.0, False)]},\n",
       " 7: {0: [(1.0, 7, 0, True)],\n",
       "  1: [(1.0, 7, 0, True)],\n",
       "  2: [(1.0, 7, 0, True)],\n",
       "  3: [(1.0, 7, 0, True)]},\n",
       " 8: {0: [(0.3333333333333333, 4, 0.0, False),\n",
       "   (0.3333333333333333, 8, 0.0, False),\n",
       "   (0.3333333333333333, 12, 0.0, True)],\n",
       "  1: [(0.3333333333333333, 8, 0.0, False),\n",
       "   (0.3333333333333333, 12, 0.0, True),\n",
       "   (0.3333333333333333, 9, 0.0, True)],\n",
       "  2: [(0.3333333333333333, 12, 0.0, True),\n",
       "   (0.3333333333333333, 9, 0.0, True),\n",
       "   (0.3333333333333333, 4, 0.0, False)],\n",
       "  3: [(0.3333333333333333, 9, 0.0, True),\n",
       "   (0.3333333333333333, 4, 0.0, False),\n",
       "   (0.3333333333333333, 8, 0.0, False)]},\n",
       " 9: {0: [(1.0, 9, 0, True)],\n",
       "  1: [(1.0, 9, 0, True)],\n",
       "  2: [(1.0, 9, 0, True)],\n",
       "  3: [(1.0, 9, 0, True)]},\n",
       " 10: {0: [(1.0, 10, 0, True)],\n",
       "  1: [(1.0, 10, 0, True)],\n",
       "  2: [(1.0, 10, 0, True)],\n",
       "  3: [(1.0, 10, 0, True)]},\n",
       " 11: {0: [(0.3333333333333333, 7, 0.0, True),\n",
       "   (0.3333333333333333, 10, 1.0, True),\n",
       "   (0.3333333333333333, 15, 0.0, True)],\n",
       "  1: [(0.3333333333333333, 10, 1.0, True),\n",
       "   (0.3333333333333333, 15, 0.0, True),\n",
       "   (0.3333333333333333, 11, 0.0, False)],\n",
       "  2: [(0.3333333333333333, 15, 0.0, True),\n",
       "   (0.3333333333333333, 11, 0.0, False),\n",
       "   (0.3333333333333333, 7, 0.0, True)],\n",
       "  3: [(0.3333333333333333, 11, 0.0, False),\n",
       "   (0.3333333333333333, 7, 0.0, True),\n",
       "   (0.3333333333333333, 10, 1.0, True)]},\n",
       " 12: {0: [(1.0, 12, 0, True)],\n",
       "  1: [(1.0, 12, 0, True)],\n",
       "  2: [(1.0, 12, 0, True)],\n",
       "  3: [(1.0, 12, 0, True)]},\n",
       " 13: {0: [(0.3333333333333333, 9, 0.0, True),\n",
       "   (0.3333333333333333, 12, 0.0, True),\n",
       "   (0.3333333333333333, 13, 0.0, False)],\n",
       "  1: [(0.3333333333333333, 12, 0.0, True),\n",
       "   (0.3333333333333333, 13, 0.0, False),\n",
       "   (0.3333333333333333, 14, 0.0, False)],\n",
       "  2: [(0.3333333333333333, 13, 0.0, False),\n",
       "   (0.3333333333333333, 14, 0.0, False),\n",
       "   (0.3333333333333333, 9, 0.0, True)],\n",
       "  3: [(0.3333333333333333, 14, 0.0, False),\n",
       "   (0.3333333333333333, 9, 0.0, True),\n",
       "   (0.3333333333333333, 12, 0.0, True)]},\n",
       " 14: {0: [(0.3333333333333333, 10, 1.0, True),\n",
       "   (0.3333333333333333, 13, 0.0, False),\n",
       "   (0.3333333333333333, 14, 0.0, False)],\n",
       "  1: [(0.3333333333333333, 13, 0.0, False),\n",
       "   (0.3333333333333333, 14, 0.0, False),\n",
       "   (0.3333333333333333, 15, 0.0, True)],\n",
       "  2: [(0.3333333333333333, 14, 0.0, False),\n",
       "   (0.3333333333333333, 15, 0.0, True),\n",
       "   (0.3333333333333333, 10, 1.0, True)],\n",
       "  3: [(0.3333333333333333, 15, 0.0, True),\n",
       "   (0.3333333333333333, 10, 1.0, True),\n",
       "   (0.3333333333333333, 13, 0.0, False)]},\n",
       " 15: {0: [(1.0, 15, 0, True)],\n",
       "  1: [(1.0, 15, 0, True)],\n",
       "  2: [(1.0, 15, 0, True)],\n",
       "  3: [(1.0, 15, 0, True)]}}"
      ]
     },
     "execution_count": 19,
     "metadata": {},
     "output_type": "execute_result"
    }
   ],
   "source": [
    "P"
   ]
  },
  {
   "cell_type": "code",
   "execution_count": 20,
   "metadata": {
    "id": "pSLmxuU0kdVd"
   },
   "outputs": [],
   "source": [
    "def value_iteration(P, gamma=1.0, theta=1e-10):\n",
    "    V = np.zeros(len(P), dtype=np.float64)\n",
    "    while True:\n",
    "      Q=np.zeros((len(P),len(P[0])),dtype=np.float64)\n",
    "      for s in range(len(P)):\n",
    "        for a in range(len(P[s])):\n",
    "          for prob,next_state,reward,done in P[s][a]:\n",
    "            Q[s][a]+=prob*(reward+gamma*V[next_state]*(not done))\n",
    "      if np.max(np.abs(V-np.max(Q,axis=1)))<theta:\n",
    "        break\n",
    "      V=np.max(Q,axis=1)\n",
    "    pi=lambda s:{s:a for s,a in enumerate(np.argmax(Q,axis=1))}[s]\n",
    "    return V, pi"
   ]
  },
  {
   "cell_type": "code",
   "execution_count": 21,
   "metadata": {
    "id": "pZcHI6LMkfBy"
   },
   "outputs": [],
   "source": [
    "V_best_v, pi_best_v = value_iteration(P, gamma=0.99)"
   ]
  },
  {
   "cell_type": "code",
   "execution_count": 22,
   "metadata": {
    "colab": {
     "base_uri": "https://localhost:8080/"
    },
    "id": "utc05AmLkhzW",
    "outputId": "0a56d103-2d9d-4a10-ff17-073a754188db"
   },
   "outputs": [
    {
     "name": "stdout",
     "output_type": "stream",
     "text": [
      "Name: SHALINI K   Register No.212222240095    \n",
      "Optimal policy and state-value function (VI):\n",
      "Policy:\n",
      "| 00      > | 01      > | 02      < |           |\n",
      "| 04      ^ | 05      ^ | 06      < |           |\n",
      "| 08      < |           |           | 11      v |\n",
      "|           | 13      v | 14      < |           |\n"
     ]
    }
   ],
   "source": [
    "print(\"Name: SHALINI K   Register No.212222240095    \")\n",
    "print('Optimal policy and state-value function (VI):')\n",
    "print_policy(pi_best_v, P)\n"
   ]
  },
  {
   "cell_type": "code",
   "execution_count": 23,
   "metadata": {
    "colab": {
     "base_uri": "https://localhost:8080/"
    },
    "id": "jU4UUzaskrVE",
    "outputId": "dfaea8f3-4064-4a1f-c976-42c64f972551"
   },
   "outputs": [
    {
     "name": "stdout",
     "output_type": "stream",
     "text": [
      "Name: SHALINI K   Register No.212222240095      \n"
     ]
    },
    {
     "ename": "TypeError",
     "evalue": "'function' object is not subscriptable",
     "output_type": "error",
     "traceback": [
      "\u001b[1;31m---------------------------------------------------------------------------\u001b[0m",
      "\u001b[1;31mTypeError\u001b[0m                                 Traceback (most recent call last)",
      "Cell \u001b[1;32mIn[23], line 4\u001b[0m\n\u001b[0;32m      1\u001b[0m \u001b[38;5;66;03m# printing the success rate and the mean return\u001b[39;00m\n\u001b[0;32m      2\u001b[0m \u001b[38;5;28mprint\u001b[39m(\u001b[38;5;124m\"\u001b[39m\u001b[38;5;124mName: SHALINI K   Register No.212222240095      \u001b[39m\u001b[38;5;124m\"\u001b[39m)\n\u001b[0;32m      3\u001b[0m \u001b[38;5;28mprint\u001b[39m(\u001b[38;5;124m'\u001b[39m\u001b[38;5;124mReaches goal \u001b[39m\u001b[38;5;132;01m{:.2f}\u001b[39;00m\u001b[38;5;124m%\u001b[39m\u001b[38;5;124m. Obtains an average undiscounted return of \u001b[39m\u001b[38;5;132;01m{:.4f}\u001b[39;00m\u001b[38;5;124m.\u001b[39m\u001b[38;5;124m'\u001b[39m\u001b[38;5;241m.\u001b[39mformat(\n\u001b[1;32m----> 4\u001b[0m     probability_success(env, pi_best_v, goal_state\u001b[38;5;241m=\u001b[39mgoal_state)\u001b[38;5;241m*\u001b[39m\u001b[38;5;241m100\u001b[39m,\n\u001b[0;32m      5\u001b[0m     mean_return(env, pi_best_v)))\n",
      "Cell \u001b[1;32mIn[16], line 10\u001b[0m, in \u001b[0;36mprobability_success\u001b[1;34m(env, pi, goal_state, n_episodes, max_steps)\u001b[0m\n\u001b[0;32m      8\u001b[0m state, _ \u001b[38;5;241m=\u001b[39m env\u001b[38;5;241m.\u001b[39mreset()\n\u001b[0;32m      9\u001b[0m \u001b[38;5;28;01mfor\u001b[39;00m _ \u001b[38;5;129;01min\u001b[39;00m \u001b[38;5;28mrange\u001b[39m(max_steps):\n\u001b[1;32m---> 10\u001b[0m     action \u001b[38;5;241m=\u001b[39m pi[state]\n\u001b[0;32m     11\u001b[0m     state, _, terminated, truncated, _ \u001b[38;5;241m=\u001b[39m env\u001b[38;5;241m.\u001b[39mstep(action)\n\u001b[0;32m     12\u001b[0m     \u001b[38;5;28;01mif\u001b[39;00m state \u001b[38;5;241m==\u001b[39m goal_state:\n",
      "\u001b[1;31mTypeError\u001b[0m: 'function' object is not subscriptable"
     ]
    }
   ],
   "source": [
    "# printing the success rate and the mean return\n",
    "print(\"Name: SHALINI K   Register No.212222240095      \")\n",
    "print('Reaches goal {:.2f}%. Obtains an average undiscounted return of {:.4f}.'.format(\n",
    "    probability_success(env, pi_best_v, goal_state=goal_state)*100,\n",
    "    mean_return(env, pi_best_v)))"
   ]
  },
  {
   "cell_type": "code",
   "execution_count": 13,
   "metadata": {
    "colab": {
     "base_uri": "https://localhost:8080/"
    },
    "id": "LeAg3xoIkuer",
    "outputId": "0082fa49-1bb3-4fd7-a878-0414680eff19"
   },
   "outputs": [
    {
     "name": "stdout",
     "output_type": "stream",
     "text": [
      "Name: Sri Varshan P   Register No.212222240104    \n",
      "State-value function:\n",
      "| 00 0.7967 | 01 0.8189 | 02 0.8378 |           |\n",
      "| 04 0.7987 | 05 0.8249 | 06  0.882 |           |\n",
      "| 08 0.3934 |           |           | 11 0.4975 |\n",
      "|           | 13 0.3235 | 14 0.6569 |           |\n"
     ]
    }
   ],
   "source": [
    "print(\"Name: SHALINI K   Register No.212222240095      \")\n",
    "print_state_value_function(V_best_v, P, prec=4)"
   ]
  },
  {
   "cell_type": "code",
   "execution_count": 13,
   "metadata": {
    "id": "AbbINP4Oum3n"
   },
   "outputs": [],
   "source": []
  }
 ],
 "metadata": {
  "colab": {
   "provenance": []
  },
  "kernelspec": {
   "display_name": "Python 3 (ipykernel)",
   "language": "python",
   "name": "python3"
  },
  "language_info": {
   "codemirror_mode": {
    "name": "ipython",
    "version": 3
   },
   "file_extension": ".py",
   "mimetype": "text/x-python",
   "name": "python",
   "nbconvert_exporter": "python",
   "pygments_lexer": "ipython3",
   "version": "3.12.3"
  }
 },
 "nbformat": 4,
 "nbformat_minor": 4
}
